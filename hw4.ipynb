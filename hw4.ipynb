{
 "cells": [
  {
   "cell_type": "code",
   "execution_count": 1,
   "id": "40ed74ee-d3d7-4651-b00b-08e537993ee6",
   "metadata": {},
   "outputs": [],
   "source": [
    "import numpy as np\n",
    "import pandas as pd\n",
    "from tqdm import tqdm"
   ]
  },
  {
   "cell_type": "code",
   "execution_count": 2,
   "id": "28bac87f-e7c7-4768-af7f-fdd598bbda10",
   "metadata": {},
   "outputs": [],
   "source": [
    "github_url = 'https://github.com/DataTalksClub/llm-zoomcamp/blob/main/04-monitoring/data/results-gpt4o-mini.csv'\n",
    "\n",
    "url = f'{github_url}?raw=1'\n",
    "df = pd.read_csv(url)"
   ]
  },
  {
   "cell_type": "code",
   "execution_count": 3,
   "id": "f343efef-bf10-4a87-a079-650f2c4ee980",
   "metadata": {},
   "outputs": [],
   "source": [
    "df = df.iloc[:300]"
   ]
  },
  {
   "cell_type": "code",
   "execution_count": 4,
   "id": "7f201d48-de74-435e-9f9c-834973192e74",
   "metadata": {},
   "outputs": [],
   "source": [
    "model_name = 'multi-qa-mpnet-base-dot-v1'"
   ]
  },
  {
   "cell_type": "code",
   "execution_count": 5,
   "id": "1b9818cd-7a4c-4c0a-aea8-0d6bd9d196f0",
   "metadata": {},
   "outputs": [
    {
     "name": "stderr",
     "output_type": "stream",
     "text": [
      "/usr/local/python/3.10.13/lib/python3.10/site-packages/sentence_transformers/cross_encoder/CrossEncoder.py:11: TqdmWarning: IProgress not found. Please update jupyter and ipywidgets. See https://ipywidgets.readthedocs.io/en/stable/user_install.html\n",
      "  from tqdm.autonotebook import tqdm, trange\n"
     ]
    }
   ],
   "source": [
    "from sentence_transformers import SentenceTransformer\n",
    "embedding_model = SentenceTransformer(model_name)"
   ]
  },
  {
   "cell_type": "code",
   "execution_count": 6,
   "id": "d30f0573-3424-4338-8b4f-abc11aaaa6e2",
   "metadata": {},
   "outputs": [],
   "source": [
    "answer_llm = df.iloc[0].answer_llm"
   ]
  },
  {
   "cell_type": "code",
   "execution_count": 7,
   "id": "e9b3bbb1-1503-469d-8194-0c96b8122442",
   "metadata": {},
   "outputs": [],
   "source": [
    "v = embedding_model.encode(answer_llm)"
   ]
  },
  {
   "cell_type": "code",
   "execution_count": 8,
   "id": "401e9463-c7d6-4a95-a322-7b0f35f306a6",
   "metadata": {},
   "outputs": [
    {
     "data": {
      "text/plain": [
       "-0.42244655"
      ]
     },
     "execution_count": 8,
     "metadata": {},
     "output_type": "execute_result"
    }
   ],
   "source": [
    "v[0]"
   ]
  },
  {
   "cell_type": "code",
   "execution_count": 14,
   "id": "dec1f3c7-9c1f-48d5-9965-c5d09373300b",
   "metadata": {},
   "outputs": [
    {
     "name": "stderr",
     "output_type": "stream",
     "text": [
      "300it [02:25,  2.07it/s]\n"
     ]
    }
   ],
   "source": [
    "evaluations = []\n",
    "\n",
    "for i, r in tqdm(df.iterrows()):\n",
    "    answer_llm = r.answer_llm\n",
    "    answer_orig = r.answer_orig\n",
    "    v_llm = embedding_model.encode(answer_llm)\n",
    "    v_orig = embedding_model.encode(answer_orig)\n",
    "    evaluations.append(v_llm.dot(v_orig))"
   ]
  },
  {
   "cell_type": "code",
   "execution_count": 18,
   "id": "c51c2e4d-637e-432c-9c0d-703e9e890578",
   "metadata": {},
   "outputs": [
    {
     "data": {
      "text/plain": [
       "31.67430877685547"
      ]
     },
     "execution_count": 18,
     "metadata": {},
     "output_type": "execute_result"
    }
   ],
   "source": [
    "np.percentile(evaluations, 75)"
   ]
  },
  {
   "cell_type": "code",
   "execution_count": 19,
   "id": "270611bf-75f6-4dd7-8a82-7ac3ea81d3eb",
   "metadata": {},
   "outputs": [],
   "source": [
    "def normalized(v):\n",
    "    norm = np.sqrt((v * v).sum())\n",
    "    v_norm = v / norm\n",
    "    return v_norm"
   ]
  },
  {
   "cell_type": "code",
   "execution_count": 26,
   "id": "86922c19-1550-4de4-9147-67ef49c84e1a",
   "metadata": {},
   "outputs": [],
   "source": []
  },
  {
   "cell_type": "code",
   "execution_count": 34,
   "id": "3da4546f-c49d-45f1-b0dd-3f0ade19bc01",
   "metadata": {},
   "outputs": [
    {
     "name": "stderr",
     "output_type": "stream",
     "text": [
      "300it [02:24,  2.08it/s]\n"
     ]
    }
   ],
   "source": [
    "pairs = [(embedding_model.encode(answer_orig), embedding_model.encode(answer_llm)) for answer_orig, answer_llm in tqdm(zip(df['answer_orig'], df['answer_llm']))]"
   ]
  },
  {
   "cell_type": "code",
   "execution_count": 37,
   "id": "d21d1b08-f9d1-4405-9b1e-639858a2469d",
   "metadata": {},
   "outputs": [],
   "source": [
    "evaluations_n = []\n",
    "\n",
    "for v_orig, v_llm in pairs:\n",
    "    v_orig = normalized(v_orig)\n",
    "    v_llm = normalized(v_llm)\n",
    "    evaluations_n.append(v_orig.dot(v_llm))"
   ]
  },
  {
   "cell_type": "code",
   "execution_count": 38,
   "id": "a87ce8fc-92b3-4f38-9bdb-afc1771f35d5",
   "metadata": {},
   "outputs": [
    {
     "data": {
      "text/plain": [
       "0.8362348973751068"
      ]
     },
     "execution_count": 38,
     "metadata": {},
     "output_type": "execute_result"
    }
   ],
   "source": [
    "np.percentile(evaluations_n, 75)"
   ]
  },
  {
   "cell_type": "code",
   "execution_count": 39,
   "id": "3b92c9af-dd14-4498-960f-f4e262f47af0",
   "metadata": {},
   "outputs": [
    {
     "name": "stderr",
     "output_type": "stream",
     "text": [
      "huggingface/tokenizers: The current process just got forked, after parallelism has already been used. Disabling parallelism to avoid deadlocks...\n",
      "To disable this warning, you can either:\n",
      "\t- Avoid using `tokenizers` before the fork if possible\n",
      "\t- Explicitly set the environment variable TOKENIZERS_PARALLELISM=(true | false)\n"
     ]
    },
    {
     "name": "stdout",
     "output_type": "stream",
     "text": [
      "Collecting rouge\n",
      "  Downloading rouge-1.0.1-py3-none-any.whl.metadata (4.1 kB)\n",
      "Requirement already satisfied: six in /home/codespace/.local/lib/python3.10/site-packages (from rouge) (1.16.0)\n",
      "Downloading rouge-1.0.1-py3-none-any.whl (13 kB)\n",
      "Installing collected packages: rouge\n",
      "Successfully installed rouge-1.0.1\n",
      "\n",
      "\u001b[1m[\u001b[0m\u001b[34;49mnotice\u001b[0m\u001b[1;39;49m]\u001b[0m\u001b[39;49m A new release of pip is available: \u001b[0m\u001b[31;49m24.0\u001b[0m\u001b[39;49m -> \u001b[0m\u001b[32;49m24.2\u001b[0m\n",
      "\u001b[1m[\u001b[0m\u001b[34;49mnotice\u001b[0m\u001b[1;39;49m]\u001b[0m\u001b[39;49m To update, run: \u001b[0m\u001b[32;49mpython3 -m pip install --upgrade pip\u001b[0m\n"
     ]
    }
   ],
   "source": [
    "!pip install rouge"
   ]
  },
  {
   "cell_type": "code",
   "execution_count": 44,
   "id": "f04e29e7-a198-44c7-bf85-517e89bebfcc",
   "metadata": {},
   "outputs": [
    {
     "name": "stdout",
     "output_type": "stream",
     "text": [
      "5170565b\n"
     ]
    }
   ],
   "source": [
    "from rouge import Rouge\n",
    "rouge_scorer = Rouge()\n",
    "\n",
    "r = df.iloc[10]\n",
    "\n",
    "print(r['document'])\n",
    "\n",
    "scores = rouge_scorer.get_scores(r['answer_llm'], r['answer_orig'])[0]"
   ]
  },
  {
   "cell_type": "code",
   "execution_count": 47,
   "id": "52b9ed2c-d20d-4903-a1d1-6c698b1b3dd5",
   "metadata": {},
   "outputs": [
    {
     "data": {
      "text/plain": [
       "0.45454544954545456"
      ]
     },
     "execution_count": 47,
     "metadata": {},
     "output_type": "execute_result"
    }
   ],
   "source": [
    "scores['rouge-1']['f']"
   ]
  },
  {
   "cell_type": "code",
   "execution_count": 49,
   "id": "41c7a922-bd50-459e-b7dc-6d8c807d8d2a",
   "metadata": {},
   "outputs": [],
   "source": [
    "rouge_1 = scores['rouge-1']['f']\n",
    "rouge_2 = scores['rouge-2']['f']\n",
    "rouge_l = scores['rouge-l']['f']\n",
    "rouge_avg = (rouge_1 + rouge_2 + rouge_l) / 3"
   ]
  },
  {
   "cell_type": "code",
   "execution_count": 50,
   "id": "4f6e2feb-929e-4dc3-bf3e-c880150f0655",
   "metadata": {},
   "outputs": [
    {
     "data": {
      "text/plain": [
       "0.35490034990035496"
      ]
     },
     "execution_count": 50,
     "metadata": {},
     "output_type": "execute_result"
    }
   ],
   "source": [
    "rouge_avg"
   ]
  },
  {
   "cell_type": "code",
   "execution_count": 51,
   "id": "e44a36be-c207-444a-a3ee-3fc9e147ab60",
   "metadata": {},
   "outputs": [
    {
     "name": "stderr",
     "output_type": "stream",
     "text": [
      "300it [00:00, 325.61it/s]\n"
     ]
    }
   ],
   "source": [
    "rouge_1 = []\n",
    "rouge_2 = []\n",
    "rouge_l = []\n",
    "\n",
    "for i, r in tqdm(df.iterrows()):\n",
    "    rouge_scorer.get_scores(r['answer_llm'], r['answer_orig'])[0]\n",
    "\n",
    "    rouge_1.append( scores['rouge-1']['f'] )\n",
    "    rouge_2.append( scores['rouge-2']['f'] )\n",
    "    rouge_l.append( scores['rouge-l']['f'] )"
   ]
  },
  {
   "cell_type": "code",
   "execution_count": 60,
   "id": "c8973661-9f9b-422f-aa42-b63f9025e9e9",
   "metadata": {},
   "outputs": [
    {
     "data": {
      "text/plain": [
       "0.21621621121621634"
      ]
     },
     "execution_count": 60,
     "metadata": {},
     "output_type": "execute_result"
    }
   ],
   "source": [
    "np.average(rouge_2)"
   ]
  }
 ],
 "metadata": {
  "kernelspec": {
   "display_name": "Python 3 (ipykernel)",
   "language": "python",
   "name": "python3"
  },
  "language_info": {
   "codemirror_mode": {
    "name": "ipython",
    "version": 3
   },
   "file_extension": ".py",
   "mimetype": "text/x-python",
   "name": "python",
   "nbconvert_exporter": "python",
   "pygments_lexer": "ipython3",
   "version": "3.10.13"
  }
 },
 "nbformat": 4,
 "nbformat_minor": 5
}
